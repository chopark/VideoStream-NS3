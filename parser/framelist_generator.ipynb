{
 "cells": [
  {
   "cell_type": "code",
   "execution_count": 1,
   "metadata": {
    "ExecuteTime": {
     "end_time": "2021-06-06T13:30:52.469293Z",
     "start_time": "2021-06-06T13:30:52.229516Z"
    }
   },
   "outputs": [
    {
     "name": "stdout",
     "output_type": "stream",
     "text": [
      "8517667.598460345\n"
     ]
    }
   ],
   "source": [
    "import scipy.stats as stats\n",
    "\n",
    "\n",
    "a, b = 50000, 150000\n",
    "mu, sigma = 100000,50000\n",
    "num=90\n",
    "\n",
    "dist = stats.truncnorm((a - mu) / sigma, (b - mu) / sigma, loc=mu, scale=sigma)\n",
    "\n",
    "values = dist.rvs(num)\n",
    "\n",
    "print(sum(values))\n",
    "# \t9,000,000 "
   ]
  },
  {
   "cell_type": "code",
   "execution_count": 2,
   "metadata": {
    "ExecuteTime": {
     "end_time": "2021-06-06T13:30:52.475182Z",
     "start_time": "2021-06-06T13:30:52.471268Z"
    }
   },
   "outputs": [],
   "source": [
    "import numpy as np\n",
    "\n",
    "np.savetxt(\"random.txt\", values, fmt='%d', delimiter=' ')"
   ]
  },
  {
   "cell_type": "code",
   "execution_count": 3,
   "metadata": {
    "ExecuteTime": {
     "end_time": "2021-06-06T13:30:52.486965Z",
     "start_time": "2021-06-06T13:30:52.476758Z"
    }
   },
   "outputs": [
    {
     "name": "stdout",
     "output_type": "stream",
     "text": [
      "8517667.598460343\n"
     ]
    }
   ],
   "source": [
    "sort=np.sort(values)\n",
    "print(sum(sort))\n",
    "np.savetxt(\"sort.txt\", sort, fmt='%d', delimiter=' ')"
   ]
  },
  {
   "cell_type": "code",
   "execution_count": 4,
   "metadata": {
    "ExecuteTime": {
     "end_time": "2021-06-06T13:30:52.497984Z",
     "start_time": "2021-06-06T13:30:52.489407Z"
    }
   },
   "outputs": [
    {
     "name": "stdout",
     "output_type": "stream",
     "text": [
      "9121654.578499015\n"
     ]
    }
   ],
   "source": [
    "a, b = 50000, 150000\n",
    "mu, sigma = 101330.2427,100\n",
    "num=90\n",
    "\n",
    "dist = stats.truncnorm((a - mu) / sigma, (b - mu) / sigma, loc=mu, scale=sigma)\n",
    "\n",
    "seq = dist.rvs(num)\n",
    "print(sum(seq))"
   ]
  },
  {
   "cell_type": "code",
   "execution_count": 5,
   "metadata": {
    "ExecuteTime": {
     "end_time": "2021-06-06T13:30:52.507960Z",
     "start_time": "2021-06-06T13:30:52.499492Z"
    }
   },
   "outputs": [],
   "source": [
    "np.savetxt(\"sequtial.txt\", seq, fmt='%d', delimiter=' ')"
   ]
  },
  {
   "cell_type": "code",
   "execution_count": null,
   "metadata": {},
   "outputs": [],
   "source": []
  }
 ],
 "metadata": {
  "kernelspec": {
   "display_name": "Python 3",
   "language": "python",
   "name": "python3"
  },
  "language_info": {
   "codemirror_mode": {
    "name": "ipython",
    "version": 3
   },
   "file_extension": ".py",
   "mimetype": "text/x-python",
   "name": "python",
   "nbconvert_exporter": "python",
   "pygments_lexer": "ipython3",
   "version": "3.7.4"
  },
  "toc": {
   "base_numbering": 1,
   "nav_menu": {},
   "number_sections": true,
   "sideBar": true,
   "skip_h1_title": false,
   "title_cell": "Table of Contents",
   "title_sidebar": "Contents",
   "toc_cell": false,
   "toc_position": {},
   "toc_section_display": true,
   "toc_window_display": false
  }
 },
 "nbformat": 4,
 "nbformat_minor": 2
}
